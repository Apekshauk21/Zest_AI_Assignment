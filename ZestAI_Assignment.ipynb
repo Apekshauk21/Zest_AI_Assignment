{
 "cells": [
  {
   "cell_type": "code",
   "execution_count": 1,
   "id": "fe01b243",
   "metadata": {},
   "outputs": [],
   "source": [
    "# Data Manipulation\n",
    "import numpy as np\n",
    "import pandas as pd\n",
    "\n",
    "#impoting other useful libraries\n",
    "import matplotlib.pyplot as plt\n",
    "import seaborn as sns\n",
    "import math\n",
    "import datetime as dt\n",
    "from matplotlib.dates import DateFormatter\n",
    "import scipy.stats\n",
    "from sklearn import linear_model\n",
    "from sklearn.tree import DecisionTreeRegressor\n",
    "from sklearn.ensemble import RandomForestClassifier\n",
    "%matplotlib inline\n"
   ]
  },
  {
   "cell_type": "code",
   "execution_count": 2,
   "id": "985ecdb7",
   "metadata": {},
   "outputs": [],
   "source": [
    "accepted_file = \"C:/Users/ASUS/Downloads/accepted_2007_to_2018Q4.csv.gz\"\n",
    "rejected_file = \"C:/Users/ASUS/Downloads/rejected_2007_to_2018Q4.csv.gz\""
   ]
  },
  {
   "cell_type": "code",
   "execution_count": 30,
   "id": "b8a3efc7",
   "metadata": {},
   "outputs": [
    {
     "name": "stderr",
     "output_type": "stream",
     "text": [
      "C:\\Users\\ASUS\\anaconda3\\lib\\site-packages\\IPython\\core\\interactiveshell.py:3444: DtypeWarning: Columns (0,19,49,59,118,129,130,131,134,135,136,139,145,146,147) have mixed types.Specify dtype option on import or set low_memory=False.\n",
      "  exec(code_obj, self.user_global_ns, self.user_ns)\n"
     ]
    }
   ],
   "source": [
    "accepted = pd.read_csv(accepted_file)\n",
    "rejected = pd.read_csv(rejected_file)"
   ]
  },
  {
   "cell_type": "code",
   "execution_count": 4,
   "id": "402393f4",
   "metadata": {},
   "outputs": [
    {
     "data": {
      "text/html": [
       "<div>\n",
       "<style scoped>\n",
       "    .dataframe tbody tr th:only-of-type {\n",
       "        vertical-align: middle;\n",
       "    }\n",
       "\n",
       "    .dataframe tbody tr th {\n",
       "        vertical-align: top;\n",
       "    }\n",
       "\n",
       "    .dataframe thead th {\n",
       "        text-align: right;\n",
       "    }\n",
       "</style>\n",
       "<table border=\"1\" class=\"dataframe\">\n",
       "  <thead>\n",
       "    <tr style=\"text-align: right;\">\n",
       "      <th></th>\n",
       "      <th>id</th>\n",
       "      <th>member_id</th>\n",
       "      <th>loan_amnt</th>\n",
       "      <th>funded_amnt</th>\n",
       "      <th>funded_amnt_inv</th>\n",
       "      <th>term</th>\n",
       "      <th>int_rate</th>\n",
       "      <th>installment</th>\n",
       "      <th>grade</th>\n",
       "      <th>sub_grade</th>\n",
       "      <th>...</th>\n",
       "      <th>hardship_payoff_balance_amount</th>\n",
       "      <th>hardship_last_payment_amount</th>\n",
       "      <th>disbursement_method</th>\n",
       "      <th>debt_settlement_flag</th>\n",
       "      <th>debt_settlement_flag_date</th>\n",
       "      <th>settlement_status</th>\n",
       "      <th>settlement_date</th>\n",
       "      <th>settlement_amount</th>\n",
       "      <th>settlement_percentage</th>\n",
       "      <th>settlement_term</th>\n",
       "    </tr>\n",
       "  </thead>\n",
       "  <tbody>\n",
       "    <tr>\n",
       "      <th>0</th>\n",
       "      <td>68407277</td>\n",
       "      <td>NaN</td>\n",
       "      <td>3600.0</td>\n",
       "      <td>3600.0</td>\n",
       "      <td>3600.0</td>\n",
       "      <td>36 months</td>\n",
       "      <td>13.99</td>\n",
       "      <td>123.03</td>\n",
       "      <td>C</td>\n",
       "      <td>C4</td>\n",
       "      <td>...</td>\n",
       "      <td>NaN</td>\n",
       "      <td>NaN</td>\n",
       "      <td>Cash</td>\n",
       "      <td>N</td>\n",
       "      <td>NaN</td>\n",
       "      <td>NaN</td>\n",
       "      <td>NaN</td>\n",
       "      <td>NaN</td>\n",
       "      <td>NaN</td>\n",
       "      <td>NaN</td>\n",
       "    </tr>\n",
       "    <tr>\n",
       "      <th>1</th>\n",
       "      <td>68355089</td>\n",
       "      <td>NaN</td>\n",
       "      <td>24700.0</td>\n",
       "      <td>24700.0</td>\n",
       "      <td>24700.0</td>\n",
       "      <td>36 months</td>\n",
       "      <td>11.99</td>\n",
       "      <td>820.28</td>\n",
       "      <td>C</td>\n",
       "      <td>C1</td>\n",
       "      <td>...</td>\n",
       "      <td>NaN</td>\n",
       "      <td>NaN</td>\n",
       "      <td>Cash</td>\n",
       "      <td>N</td>\n",
       "      <td>NaN</td>\n",
       "      <td>NaN</td>\n",
       "      <td>NaN</td>\n",
       "      <td>NaN</td>\n",
       "      <td>NaN</td>\n",
       "      <td>NaN</td>\n",
       "    </tr>\n",
       "    <tr>\n",
       "      <th>2</th>\n",
       "      <td>68341763</td>\n",
       "      <td>NaN</td>\n",
       "      <td>20000.0</td>\n",
       "      <td>20000.0</td>\n",
       "      <td>20000.0</td>\n",
       "      <td>60 months</td>\n",
       "      <td>10.78</td>\n",
       "      <td>432.66</td>\n",
       "      <td>B</td>\n",
       "      <td>B4</td>\n",
       "      <td>...</td>\n",
       "      <td>NaN</td>\n",
       "      <td>NaN</td>\n",
       "      <td>Cash</td>\n",
       "      <td>N</td>\n",
       "      <td>NaN</td>\n",
       "      <td>NaN</td>\n",
       "      <td>NaN</td>\n",
       "      <td>NaN</td>\n",
       "      <td>NaN</td>\n",
       "      <td>NaN</td>\n",
       "    </tr>\n",
       "    <tr>\n",
       "      <th>3</th>\n",
       "      <td>66310712</td>\n",
       "      <td>NaN</td>\n",
       "      <td>35000.0</td>\n",
       "      <td>35000.0</td>\n",
       "      <td>35000.0</td>\n",
       "      <td>60 months</td>\n",
       "      <td>14.85</td>\n",
       "      <td>829.90</td>\n",
       "      <td>C</td>\n",
       "      <td>C5</td>\n",
       "      <td>...</td>\n",
       "      <td>NaN</td>\n",
       "      <td>NaN</td>\n",
       "      <td>Cash</td>\n",
       "      <td>N</td>\n",
       "      <td>NaN</td>\n",
       "      <td>NaN</td>\n",
       "      <td>NaN</td>\n",
       "      <td>NaN</td>\n",
       "      <td>NaN</td>\n",
       "      <td>NaN</td>\n",
       "    </tr>\n",
       "    <tr>\n",
       "      <th>4</th>\n",
       "      <td>68476807</td>\n",
       "      <td>NaN</td>\n",
       "      <td>10400.0</td>\n",
       "      <td>10400.0</td>\n",
       "      <td>10400.0</td>\n",
       "      <td>60 months</td>\n",
       "      <td>22.45</td>\n",
       "      <td>289.91</td>\n",
       "      <td>F</td>\n",
       "      <td>F1</td>\n",
       "      <td>...</td>\n",
       "      <td>NaN</td>\n",
       "      <td>NaN</td>\n",
       "      <td>Cash</td>\n",
       "      <td>N</td>\n",
       "      <td>NaN</td>\n",
       "      <td>NaN</td>\n",
       "      <td>NaN</td>\n",
       "      <td>NaN</td>\n",
       "      <td>NaN</td>\n",
       "      <td>NaN</td>\n",
       "    </tr>\n",
       "  </tbody>\n",
       "</table>\n",
       "<p>5 rows × 151 columns</p>\n",
       "</div>"
      ],
      "text/plain": [
       "         id  member_id  loan_amnt  funded_amnt  funded_amnt_inv        term  \\\n",
       "0  68407277        NaN     3600.0       3600.0           3600.0   36 months   \n",
       "1  68355089        NaN    24700.0      24700.0          24700.0   36 months   \n",
       "2  68341763        NaN    20000.0      20000.0          20000.0   60 months   \n",
       "3  66310712        NaN    35000.0      35000.0          35000.0   60 months   \n",
       "4  68476807        NaN    10400.0      10400.0          10400.0   60 months   \n",
       "\n",
       "   int_rate  installment grade sub_grade  ... hardship_payoff_balance_amount  \\\n",
       "0     13.99       123.03     C        C4  ...                            NaN   \n",
       "1     11.99       820.28     C        C1  ...                            NaN   \n",
       "2     10.78       432.66     B        B4  ...                            NaN   \n",
       "3     14.85       829.90     C        C5  ...                            NaN   \n",
       "4     22.45       289.91     F        F1  ...                            NaN   \n",
       "\n",
       "  hardship_last_payment_amount disbursement_method  debt_settlement_flag  \\\n",
       "0                          NaN                Cash                     N   \n",
       "1                          NaN                Cash                     N   \n",
       "2                          NaN                Cash                     N   \n",
       "3                          NaN                Cash                     N   \n",
       "4                          NaN                Cash                     N   \n",
       "\n",
       "  debt_settlement_flag_date settlement_status settlement_date  \\\n",
       "0                       NaN               NaN             NaN   \n",
       "1                       NaN               NaN             NaN   \n",
       "2                       NaN               NaN             NaN   \n",
       "3                       NaN               NaN             NaN   \n",
       "4                       NaN               NaN             NaN   \n",
       "\n",
       "  settlement_amount settlement_percentage settlement_term  \n",
       "0               NaN                   NaN             NaN  \n",
       "1               NaN                   NaN             NaN  \n",
       "2               NaN                   NaN             NaN  \n",
       "3               NaN                   NaN             NaN  \n",
       "4               NaN                   NaN             NaN  \n",
       "\n",
       "[5 rows x 151 columns]"
      ]
     },
     "execution_count": 4,
     "metadata": {},
     "output_type": "execute_result"
    }
   ],
   "source": [
    "accepted.head()"
   ]
  },
  {
   "cell_type": "code",
   "execution_count": 10,
   "id": "d2f6b802",
   "metadata": {},
   "outputs": [
    {
     "data": {
      "text/html": [
       "<div>\n",
       "<style scoped>\n",
       "    .dataframe tbody tr th:only-of-type {\n",
       "        vertical-align: middle;\n",
       "    }\n",
       "\n",
       "    .dataframe tbody tr th {\n",
       "        vertical-align: top;\n",
       "    }\n",
       "\n",
       "    .dataframe thead th {\n",
       "        text-align: right;\n",
       "    }\n",
       "</style>\n",
       "<table border=\"1\" class=\"dataframe\">\n",
       "  <thead>\n",
       "    <tr style=\"text-align: right;\">\n",
       "      <th></th>\n",
       "      <th>Amount Requested</th>\n",
       "      <th>Application Date</th>\n",
       "      <th>Loan Title</th>\n",
       "      <th>Risk_Score</th>\n",
       "      <th>Debt-To-Income Ratio</th>\n",
       "      <th>Zip Code</th>\n",
       "      <th>State</th>\n",
       "      <th>Employment Length</th>\n",
       "      <th>Policy Code</th>\n",
       "    </tr>\n",
       "  </thead>\n",
       "  <tbody>\n",
       "    <tr>\n",
       "      <th>0</th>\n",
       "      <td>1000.0</td>\n",
       "      <td>2007-05-26</td>\n",
       "      <td>Wedding Covered but No Honeymoon</td>\n",
       "      <td>693.0</td>\n",
       "      <td>10%</td>\n",
       "      <td>481xx</td>\n",
       "      <td>NM</td>\n",
       "      <td>4 years</td>\n",
       "      <td>0.0</td>\n",
       "    </tr>\n",
       "    <tr>\n",
       "      <th>1</th>\n",
       "      <td>1000.0</td>\n",
       "      <td>2007-05-26</td>\n",
       "      <td>Consolidating Debt</td>\n",
       "      <td>703.0</td>\n",
       "      <td>10%</td>\n",
       "      <td>010xx</td>\n",
       "      <td>MA</td>\n",
       "      <td>&lt; 1 year</td>\n",
       "      <td>0.0</td>\n",
       "    </tr>\n",
       "    <tr>\n",
       "      <th>2</th>\n",
       "      <td>11000.0</td>\n",
       "      <td>2007-05-27</td>\n",
       "      <td>Want to consolidate my debt</td>\n",
       "      <td>715.0</td>\n",
       "      <td>10%</td>\n",
       "      <td>212xx</td>\n",
       "      <td>MD</td>\n",
       "      <td>1 year</td>\n",
       "      <td>0.0</td>\n",
       "    </tr>\n",
       "    <tr>\n",
       "      <th>3</th>\n",
       "      <td>6000.0</td>\n",
       "      <td>2007-05-27</td>\n",
       "      <td>waksman</td>\n",
       "      <td>698.0</td>\n",
       "      <td>38.64%</td>\n",
       "      <td>017xx</td>\n",
       "      <td>MA</td>\n",
       "      <td>&lt; 1 year</td>\n",
       "      <td>0.0</td>\n",
       "    </tr>\n",
       "    <tr>\n",
       "      <th>4</th>\n",
       "      <td>1500.0</td>\n",
       "      <td>2007-05-27</td>\n",
       "      <td>mdrigo</td>\n",
       "      <td>509.0</td>\n",
       "      <td>9.43%</td>\n",
       "      <td>209xx</td>\n",
       "      <td>MD</td>\n",
       "      <td>&lt; 1 year</td>\n",
       "      <td>0.0</td>\n",
       "    </tr>\n",
       "  </tbody>\n",
       "</table>\n",
       "</div>"
      ],
      "text/plain": [
       "   Amount Requested Application Date                        Loan Title  \\\n",
       "0            1000.0       2007-05-26  Wedding Covered but No Honeymoon   \n",
       "1            1000.0       2007-05-26                Consolidating Debt   \n",
       "2           11000.0       2007-05-27       Want to consolidate my debt   \n",
       "3            6000.0       2007-05-27                           waksman   \n",
       "4            1500.0       2007-05-27                            mdrigo   \n",
       "\n",
       "   Risk_Score Debt-To-Income Ratio Zip Code State Employment Length  \\\n",
       "0       693.0                  10%    481xx    NM           4 years   \n",
       "1       703.0                  10%    010xx    MA          < 1 year   \n",
       "2       715.0                  10%    212xx    MD            1 year   \n",
       "3       698.0               38.64%    017xx    MA          < 1 year   \n",
       "4       509.0                9.43%    209xx    MD          < 1 year   \n",
       "\n",
       "   Policy Code  \n",
       "0          0.0  \n",
       "1          0.0  \n",
       "2          0.0  \n",
       "3          0.0  \n",
       "4          0.0  "
      ]
     },
     "execution_count": 10,
     "metadata": {},
     "output_type": "execute_result"
    }
   ],
   "source": [
    "rejected.head()"
   ]
  },
  {
   "cell_type": "code",
   "execution_count": 31,
   "id": "eda92a72",
   "metadata": {},
   "outputs": [
    {
     "name": "stdout",
     "output_type": "stream",
     "text": [
      "(2260701, 151)\n",
      "(27648741, 9)\n"
     ]
    }
   ],
   "source": [
    "#Checking number of rows and columns\n",
    "print(accepted.shape)\n",
    "print(rejected.shape)"
   ]
  },
  {
   "cell_type": "code",
   "execution_count": 32,
   "id": "b889cf25",
   "metadata": {},
   "outputs": [
    {
     "data": {
      "text/plain": [
       "108486249"
      ]
     },
     "execution_count": 32,
     "metadata": {},
     "output_type": "execute_result"
    }
   ],
   "source": [
    "#Checking the null values in the dataframe\n",
    "accepted.isnull().values.sum()"
   ]
  },
  {
   "cell_type": "code",
   "execution_count": 33,
   "id": "8e4fd57f",
   "metadata": {},
   "outputs": [
    {
     "data": {
      "text/plain": [
       "member_id                                     2260701\n",
       "orig_projected_additional_accrued_interest    2252050\n",
       "hardship_end_date                             2249784\n",
       "hardship_start_date                           2249784\n",
       "hardship_type                                 2249784\n",
       "                                               ...   \n",
       "policy_code                                        33\n",
       "revol_bal                                          33\n",
       "fico_range_high                                    33\n",
       "fico_range_low                                     33\n",
       "id                                                  0\n",
       "Length: 151, dtype: int64"
      ]
     },
     "execution_count": 33,
     "metadata": {},
     "output_type": "execute_result"
    }
   ],
   "source": [
    "#Checking for null values in every column\n",
    "acc_na_check = accepted.isnull().sum(axis = 0).sort_values(ascending = False)\n",
    "acc_na_check"
   ]
  },
  {
   "cell_type": "code",
   "execution_count": 38,
   "id": "494d8336",
   "metadata": {},
   "outputs": [
    {
     "data": {
      "text/plain": [
       "24749228"
      ]
     },
     "execution_count": 38,
     "metadata": {},
     "output_type": "execute_result"
    }
   ],
   "source": [
    "#Checking the columns with more than 90% null values \n",
    "accepted_null_90 = accepted.columns[accepted.isnull().mean() > 0.9]\n",
    "len(accepted_null_90)\n",
    "\n",
    "#Dropping the columns with more than 90% null values\n",
    "accepted_drop = accepted.columns[accepted.isnull().mean() > 0.9]\n",
    "df_accepted = accepted.drop(accepted_drop,axis=1)\n",
    "df_accepted.isnull().values.sum()"
   ]
  },
  {
   "cell_type": "code",
   "execution_count": 140,
   "id": "d532aecf",
   "metadata": {},
   "outputs": [],
   "source": [
    "#Even after drooping columns with more than 90% null values, there are significant amount of null values to be dropped.\n",
    "#Hence I would be doing the feature selection where I'll be considering the columns that is required for analysis\n",
    "\n",
    "df_accepted = df_accepted[[\"loan_amnt\", \"term\", \"int_rate\", \"installment\", \"grade\", \n",
    "                           \"home_ownership\", \"annual_inc\", \"verification_status\", \"issue_d\", \"loan_status\",\n",
    "           \"purpose\",  \"earliest_cr_line\", \"open_acc\", \"pub_rec\", \"revol_bal\", \"revol_util\",\n",
    "           \"total_acc\", \"initial_list_status\", \"application_type\",  \"pub_rec_bankruptcies\"]]"
   ]
  },
  {
   "cell_type": "code",
   "execution_count": 57,
   "id": "d36c6cc0",
   "metadata": {},
   "outputs": [
    {
     "data": {
      "text/plain": [
       "loan_amnt                  11\n",
       "term                       11\n",
       "int_rate                   11\n",
       "installment                11\n",
       "grade                      11\n",
       "home_ownership             11\n",
       "annual_inc                 12\n",
       "verification_status        11\n",
       "issue_d                    11\n",
       "loan_status                11\n",
       "purpose                    11\n",
       "earliest_cr_line           16\n",
       "open_acc                   16\n",
       "pub_rec                    16\n",
       "revol_bal                  11\n",
       "revol_util                444\n",
       "total_acc                  16\n",
       "initial_list_status        11\n",
       "application_type           11\n",
       "mort_acc                12405\n",
       "pub_rec_bankruptcies      315\n",
       "dtype: int64"
      ]
     },
     "execution_count": 57,
     "metadata": {},
     "output_type": "execute_result"
    }
   ],
   "source": [
    "df_accepted.isna().sum()"
   ]
  },
  {
   "cell_type": "code",
   "execution_count": 62,
   "id": "a9eff8d8",
   "metadata": {},
   "outputs": [
    {
     "data": {
      "text/plain": [
       "loan_amnt                  11\n",
       "term                       11\n",
       "int_rate                   11\n",
       "installment                11\n",
       "grade                      11\n",
       "home_ownership             11\n",
       "annual_inc                 12\n",
       "verification_status        11\n",
       "issue_d                    11\n",
       "loan_status                11\n",
       "purpose                    11\n",
       "earliest_cr_line           16\n",
       "open_acc                   16\n",
       "pub_rec                    16\n",
       "revol_bal                  11\n",
       "revol_util                444\n",
       "total_acc                  16\n",
       "initial_list_status        11\n",
       "application_type           11\n",
       "mort_acc                12405\n",
       "pub_rec_bankruptcies      315\n",
       "dtype: int64"
      ]
     },
     "execution_count": 62,
     "metadata": {},
     "output_type": "execute_result"
    }
   ],
   "source": [
    "#removing the columns filled with more than 50% Nan values\n",
    "df_accepted.isnull().sum()/len(df_accepted)\n",
    "nanfil = []\n",
    "for i in df_accepted.columns:\n",
    "    if df_accepted[i].isnull().sum()/len(df_accepted) > 0.5:\n",
    "        nanfil.append(i)\n",
    "\n",
    "df_accepted = df_accepted.drop(nanfil, axis = 1)\n",
    "df_accepted.isna().sum()"
   ]
  },
  {
   "cell_type": "code",
   "execution_count": 65,
   "id": "45ef2d6b",
   "metadata": {},
   "outputs": [
    {
     "data": {
      "text/plain": [
       "array([ 0.,  4.,  1.,  6.,  3.,  2., 10.,  5., nan,  8.,  7.,  9., 14.,\n",
       "       12., 11., 16., 15., 17., 13., 22., 19., 23., 18., 29., 20., 51.,\n",
       "       25., 24., 34., 27., 46., 37., 21., 26.])"
      ]
     },
     "execution_count": 65,
     "metadata": {},
     "output_type": "execute_result"
    }
   ],
   "source": [
    "#Checking the unique values for mort_acc column\n",
    "df_accepted['mort_acc'].unique()"
   ]
  },
  {
   "cell_type": "code",
   "execution_count": 66,
   "id": "8c6ad3dc",
   "metadata": {},
   "outputs": [
    {
     "data": {
      "text/plain": [
       "<AxesSubplot:ylabel='Frequency'>"
      ]
     },
     "execution_count": 66,
     "metadata": {},
     "output_type": "execute_result"
    },
    {
     "data": {
      "image/png": "[encoded data removed]",
      "text/plain": [
       "<Figure size 432x288 with 1 Axes>"
      ]
     },
     "metadata": {
      "needs_background": "light"
     },
     "output_type": "display_data"
    }
   ],
   "source": [
    "df_accepted['mort_acc'].plot.hist()"
   ]
  },
  {
   "cell_type": "code",
   "execution_count": 68,
   "id": "c4632d2d",
   "metadata": {},
   "outputs": [
    {
     "data": {
      "text/plain": [
       "1.0"
      ]
     },
     "execution_count": 68,
     "metadata": {},
     "output_type": "execute_result"
    }
   ],
   "source": [
    "df_accepted['mort_acc'].median()"
   ]
  },
  {
   "cell_type": "code",
   "execution_count": 69,
   "id": "418de9a9",
   "metadata": {},
   "outputs": [
    {
     "data": {
      "text/plain": [
       "50.3"
      ]
     },
     "execution_count": 69,
     "metadata": {},
     "output_type": "execute_result"
    }
   ],
   "source": [
    "df_accepted['revol_util'].median()"
   ]
  },
  {
   "cell_type": "code",
   "execution_count": 72,
   "id": "2a5e5012",
   "metadata": {},
   "outputs": [
    {
     "data": {
      "text/plain": [
       "array([ 57.8 ,  42.6 ,  50.9 , ..., 114.2 ,  12.42, 110.4 ])"
      ]
     },
     "execution_count": 72,
     "metadata": {},
     "output_type": "execute_result"
    }
   ],
   "source": [
    "df_accepted['revol_util'].unique()"
   ]
  },
  {
   "cell_type": "code",
   "execution_count": 73,
   "id": "467ee909",
   "metadata": {},
   "outputs": [
    {
     "data": {
      "text/plain": [
       "<AxesSubplot:ylabel='Frequency'>"
      ]
     },
     "execution_count": 73,
     "metadata": {},
     "output_type": "execute_result"
    },
    {
     "data": {
      "image/png": "[encoded data removed]",
      "text/plain": [
       "<Figure size 432x288 with 1 Axes>"
      ]
     },
     "metadata": {
      "needs_background": "light"
     },
     "output_type": "display_data"
    }
   ],
   "source": [
    "df_accepted['revol_util'].plot.hist()"
   ]
  },
  {
   "cell_type": "code",
   "execution_count": 74,
   "id": "78b9b266",
   "metadata": {},
   "outputs": [
    {
     "data": {
      "text/plain": [
       "50.367759056965895"
      ]
     },
     "execution_count": 74,
     "metadata": {},
     "output_type": "execute_result"
    }
   ],
   "source": [
    "df_accepted['revol_util'].mean()"
   ]
  },
  {
   "cell_type": "code",
   "execution_count": 83,
   "id": "1a7ce267",
   "metadata": {},
   "outputs": [],
   "source": [
    "#Replacing the columns with Na values with mean and median\n",
    "df_accepted['mort_acc'].fillna(df_accepted['mort_acc'].mean(), inplace=True)\n",
    "df_accepted['revol_util'].fillna(df_accepted['revol_util'].median(), inplace=True)"
   ]
  },
  {
   "cell_type": "code",
   "execution_count": 88,
   "id": "63337127",
   "metadata": {},
   "outputs": [],
   "source": [
    "#Dropping the columns with more than 10% Na values \n",
    "drop_cols = df_accepted.columns[df_accepted.isnull().mean() > 0.2]\n",
    "df_accepted = df_accepted.drop(drop_cols,axis=1)"
   ]
  },
  {
   "cell_type": "code",
   "execution_count": 90,
   "id": "5eef4138",
   "metadata": {},
   "outputs": [
    {
     "data": {
      "text/plain": [
       "19451521"
      ]
     },
     "execution_count": 90,
     "metadata": {},
     "output_type": "execute_result"
    }
   ],
   "source": [
    "#Checking the null values in the rejected dataframe\n",
    "rejected.isnull().values.sum()"
   ]
  },
  {
   "cell_type": "code",
   "execution_count": 92,
   "id": "68d1640f",
   "metadata": {},
   "outputs": [
    {
     "data": {
      "text/plain": [
       "Risk_Score              18497630\n",
       "Employment Length         951355\n",
       "Loan Title                  1303\n",
       "Policy Code                  918\n",
       "Zip Code                     293\n",
       "State                         22\n",
       "Amount Requested               0\n",
       "Application Date               0\n",
       "Debt-To-Income Ratio           0\n",
       "dtype: int64"
      ]
     },
     "execution_count": 92,
     "metadata": {},
     "output_type": "execute_result"
    }
   ],
   "source": [
    "#Checking for null values in every column\n",
    "rej_na_check = rejected.isnull().sum(axis = 0).sort_values(ascending = False)\n",
    "rej_na_check"
   ]
  },
  {
   "cell_type": "code",
   "execution_count": 98,
   "id": "89d0fe38",
   "metadata": {},
   "outputs": [
    {
     "data": {
      "text/plain": [
       "Employment Length       951355\n",
       "Loan Title                1303\n",
       "Policy Code                918\n",
       "Zip Code                   293\n",
       "State                       22\n",
       "Amount Requested             0\n",
       "Application Date             0\n",
       "Debt-To-Income Ratio         0\n",
       "dtype: int64"
      ]
     },
     "execution_count": 98,
     "metadata": {},
     "output_type": "execute_result"
    }
   ],
   "source": [
    "#Checking the columns with more than 90% null values \n",
    "rejected_null_90 = rejected.columns[rejected.isnull().mean() > 0.5]\n",
    "len(rejected_null_90)\n",
    "\n",
    "#Dropping the columns with more than 90% null values\n",
    "rejected_drop = rejected.columns[rejected.isnull().mean() > 0.5]\n",
    "df_rejected = rejected.drop(rejected_drop,axis=1)\n",
    "df_rejected.isnull().sum(axis = 0).sort_values(ascending = False)"
   ]
  },
  {
   "cell_type": "code",
   "execution_count": 120,
   "id": "d181f453",
   "metadata": {},
   "outputs": [
    {
     "data": {
      "text/plain": [
       "Loan Title              1303\n",
       "Amount Requested           0\n",
       "Debt-To-Income Ratio       0\n",
       "dtype: int64"
      ]
     },
     "execution_count": 120,
     "metadata": {},
     "output_type": "execute_result"
    }
   ],
   "source": [
    "#Even after drooping columns with more than 90% null values, there are significant amount of null values to be dropped.\n",
    "#Hence I would be doing the feature selection where I'll be considering the columns that is required for analysis\n",
    "\n",
    "df_rejected = df_rejected[[\"Amount Requested\", \"Loan Title\", \"Debt-To-Income Ratio\"]]\n",
    "df_rejected.isnull().sum(axis = 0).sort_values(ascending = False)"
   ]
  },
  {
   "cell_type": "code",
   "execution_count": 121,
   "id": "fe387382",
   "metadata": {},
   "outputs": [
    {
     "data": {
      "text/plain": [
       "73928"
      ]
     },
     "execution_count": 121,
     "metadata": {},
     "output_type": "execute_result"
    }
   ],
   "source": [
    "len(df_rejected['Loan Title'].unique())"
   ]
  },
  {
   "cell_type": "code",
   "execution_count": 122,
   "id": "5f50ecc3",
   "metadata": {
    "scrolled": true
   },
   "outputs": [],
   "source": [
    "# The dataframe has same column names hence renaming it to same name\n",
    "df_rejected.rename(columns={'debt_consolidation': 'Debt consolidation'}, inplace=True)"
   ]
  },
  {
   "cell_type": "code",
   "execution_count": 123,
   "id": "0c7b163e",
   "metadata": {},
   "outputs": [
    {
     "data": {
      "text/plain": [
       "Debt consolidation                         12313227\n",
       "Other                                       2656222\n",
       "Credit card refinancing                     2298199\n",
       "other                                       2042528\n",
       "credit_card                                 1363406\n",
       "                                             ...   \n",
       "Help me get out of this mess                      1\n",
       "help with wedding expens                          1\n",
       "investing education for mobile dynamics           1\n",
       "HSBC refinance loan                               1\n",
       "Business Advertising Loan                         1\n",
       "Name: Loan Title, Length: 73927, dtype: int64"
      ]
     },
     "execution_count": 123,
     "metadata": {},
     "output_type": "execute_result"
    }
   ],
   "source": [
    "df_rejected['Loan Title'].value_counts()"
   ]
  },
  {
   "cell_type": "code",
   "execution_count": 124,
   "id": "b7a95cc5",
   "metadata": {},
   "outputs": [],
   "source": [
    "df_rejected.loc[df_rejected['Loan Title']=='debt_consolidation','Loan Title'] = 'Debt consolidation'"
   ]
  },
  {
   "cell_type": "code",
   "execution_count": 125,
   "id": "e3c5520f",
   "metadata": {},
   "outputs": [
    {
     "data": {
      "text/plain": [
       "Debt consolidation                         12313227\n",
       "Other                                       2656222\n",
       "Credit card refinancing                     2298199\n",
       "other                                       2042528\n",
       "credit_card                                 1363406\n",
       "                                             ...   \n",
       "Help me get out of this mess                      1\n",
       "help with wedding expens                          1\n",
       "investing education for mobile dynamics           1\n",
       "HSBC refinance loan                               1\n",
       "Business Advertising Loan                         1\n",
       "Name: Loan Title, Length: 73927, dtype: int64"
      ]
     },
     "execution_count": 125,
     "metadata": {},
     "output_type": "execute_result"
    }
   ],
   "source": [
    "df_rejected['Loan Title'].value_counts()"
   ]
  },
  {
   "cell_type": "code",
   "execution_count": 126,
   "id": "24511b67",
   "metadata": {},
   "outputs": [],
   "source": [
    "#Replacing the null values with mode\n",
    "df_rejected.fillna(df_rejected['Loan Title'].mode(), inplace=True)"
   ]
  },
  {
   "cell_type": "markdown",
   "id": "e2926bec",
   "metadata": {},
   "source": [
    "# EXPLORATORY DATA ANALYSIS"
   ]
  },
  {
   "cell_type": "code",
   "execution_count": 128,
   "id": "24c7beae",
   "metadata": {},
   "outputs": [
    {
     "data": {
      "image/png": "[encoded data removed]",
      "text/plain": [
       "<Figure size 1440x360 with 1 Axes>"
      ]
     },
     "metadata": {
      "needs_background": "light"
     },
     "output_type": "display_data"
    }
   ],
   "source": [
    "#Plots the count of account based on their loan status\n",
    "fig = plt.figure(figsize=(20,5))\n",
    "sns.countplot(y='loan_status', data=df_accepted);"
   ]
  },
  {
   "cell_type": "markdown",
   "id": "fcc83d80",
   "metadata": {},
   "source": [
    "Fully paid are the highest followed by current and the charged off. Most of the loan accounts are either paid off or the payment is still in progress"
   ]
  },
  {
   "cell_type": "code",
   "execution_count": 133,
   "id": "07c103b3",
   "metadata": {},
   "outputs": [
    {
     "data": {
      "image/png": "[encoded data removed]",
      "text/plain": [
       "<Figure size 1080x1440 with 4 Axes>"
      ]
     },
     "metadata": {
      "needs_background": "light"
     },
     "output_type": "display_data"
    }
   ],
   "source": [
    "paid_charged = df_accepted.loc[(df_accepted[\"loan_status\"] == \"Fully Paid\") | (df_accepted[\"loan_status\"] == \"Charged Off\")]\n",
    "\n",
    "plt.figure(figsize=(15, 20))\n",
    "\n",
    "plt.subplot(4, 2, 1)\n",
    "sns.countplot(x='term', data=paid_charged, hue='loan_status')\n",
    "\n",
    "plt.subplot(4, 2, 2)\n",
    "sns.countplot(x='home_ownership', data=paid_charged, hue='loan_status')\n",
    "\n",
    "plt.subplot(4, 2, 3)\n",
    "sns.countplot(x='verification_status', data=paid_charged, hue='loan_status')\n",
    "\n",
    "plt.subplot(4, 2, 4)\n",
    "g = sns.countplot(x='purpose', data=paid_charged, hue='loan_status')\n",
    "g.set_xticklabels(g.get_xticklabels(), rotation=90);"
   ]
  },
  {
   "cell_type": "markdown",
   "id": "0399345e",
   "metadata": {},
   "source": [
    "Plot 1: Loan is fully paid in 36 months term\n",
    "Plot 2: Loan is fully paid with mortgage ownership and charged for own house\n",
    "Plot 3: Clients who fully paid are source verified and one that is not verified is charged off\n",
    "Plot 4: Loan is charged off significantly for debt consolidation"
   ]
  },
  {
   "cell_type": "code",
   "execution_count": 153,
   "id": "04edb45c",
   "metadata": {},
   "outputs": [
    {
     "data": {
      "text/plain": [
       "<AxesSubplot:>"
      ]
     },
     "execution_count": 153,
     "metadata": {},
     "output_type": "execute_result"
    },
    {
     "data": {
      "image/png": "[encoded data removed]",
      "text/plain": [
       "<Figure size 864x576 with 2 Axes>"
      ]
     },
     "metadata": {
      "needs_background": "light"
     },
     "output_type": "display_data"
    }
   ],
   "source": [
    "#Plotting correlation matrix\n",
    "fig= plt.figure(figsize=(12, 8))\n",
    "sns.heatmap(df_accepted.corr(), annot=True, cmap='viridis')"
   ]
  },
  {
   "cell_type": "markdown",
   "id": "d5fc8855",
   "metadata": {},
   "source": [
    "1. Installment and loan amount are heavily correlated, which implies greater the loan amount, higher the installments and vice versa.\n",
    "2. total_acc and open_acc are correlated\n",
    "3. publci_rec_bankruptcies and public_rec are correlated"
   ]
  },
  {
   "cell_type": "code",
   "execution_count": 156,
   "id": "273a05e9",
   "metadata": {},
   "outputs": [
    {
     "data": {
      "text/plain": [
       "<AxesSubplot:xlabel='grade', ylabel='count'>"
      ]
     },
     "execution_count": 156,
     "metadata": {},
     "output_type": "execute_result"
    },
    {
     "data": {
      "image/png": "[encoded data removed]",
      "text/plain": [
       "<Figure size 1080x720 with 1 Axes>"
      ]
     },
     "metadata": {
      "needs_background": "light"
     },
     "output_type": "display_data"
    }
   ],
   "source": [
    "paid_charged = df_accepted.loc[(df_accepted[\"loan_status\"] == \"Fully Paid\") | (df_accepted[\"loan_status\"] == \"Charged Off\")]\n",
    "\n",
    "plt.figure(figsize=(15, 10))\n",
    "\n",
    "plt.subplot(2, 2, 1)\n",
    "grade = sorted(paid_charged.grade.unique().tolist())\n",
    "sns.countplot(x='grade', data=paid_charged, hue='loan_status', order=grade)\n"
   ]
  },
  {
   "cell_type": "markdown",
   "id": "642c71b7",
   "metadata": {},
   "source": [
    "As grade goes higher the count of charged off increases. \n",
    "There is a higher risk in allocating loan to candidates with a higher grade.\n",
    "Grade C onwards has higher loan fully paid to charged off ratio."
   ]
  },
  {
   "cell_type": "code",
   "execution_count": 157,
   "id": "5be5217b",
   "metadata": {},
   "outputs": [
    {
     "data": {
      "text/plain": [
       "<AxesSubplot:xlabel='application_type', ylabel='count'>"
      ]
     },
     "execution_count": 157,
     "metadata": {},
     "output_type": "execute_result"
    },
    {
     "data": {
      "image/png": "[encoded data removed]",
      "text/plain": [
       "<Figure size 576x432 with 1 Axes>"
      ]
     },
     "metadata": {
      "needs_background": "light"
     },
     "output_type": "display_data"
    }
   ],
   "source": [
    "plt.figure(figsize=(8, 6))\n",
    "sns.countplot(x=\"application_type\", data=paid_charged, hue=\"loan_status\")"
   ]
  },
  {
   "cell_type": "markdown",
   "id": "09e256eb",
   "metadata": {},
   "source": [
    "Individual applicant type have paid loan completely "
   ]
  },
  {
   "cell_type": "code",
   "execution_count": 159,
   "id": "c7446b42",
   "metadata": {},
   "outputs": [
    {
     "name": "stderr",
     "output_type": "stream",
     "text": [
      "C:\\Users\\ASUS\\anaconda3\\lib\\site-packages\\seaborn\\distributions.py:2619: FutureWarning: `distplot` is a deprecated function and will be removed in a future version. Please adapt your code to use either `displot` (a figure-level function with similar flexibility) or `histplot` (an axes-level function for histograms).\n",
      "  warnings.warn(msg, FutureWarning)\n"
     ]
    },
    {
     "data": {
      "text/plain": [
       "<AxesSubplot:xlabel='loan_amnt', ylabel='Density'>"
      ]
     },
     "execution_count": 159,
     "metadata": {},
     "output_type": "execute_result"
    },
    {
     "data": {
      "image/png": "[encoded data removed]",
      "text/plain": [
       "<Figure size 1224x288 with 1 Axes>"
      ]
     },
     "metadata": {
      "needs_background": "light"
     },
     "output_type": "display_data"
    }
   ],
   "source": [
    "plt.figure(1, figsize=(17, 4))\n",
    "plt.subplot(1, 2, 1)\n",
    "sns.distplot(df_accepted[\"loan_amnt\"], color=\"y\")"
   ]
  },
  {
   "cell_type": "markdown",
   "id": "cde05aa6",
   "metadata": {},
   "source": [
    "Thevariables are similarly distributed, which shows that there is an adequate balance in the loan amount."
   ]
  }
 ],
 "metadata": {
  "kernelspec": {
   "display_name": "Python 3 (ipykernel)",
   "language": "python",
   "name": "python3"
  },
  "language_info": {
   "codemirror_mode": {
    "name": "ipython",
    "version": 3
   },
   "file_extension": ".py",
   "mimetype": "text/x-python",
   "name": "python",
   "nbconvert_exporter": "python",
   "pygments_lexer": "ipython3",
   "version": "3.9.7"
  }
 },
 "nbformat": 4,
 "nbformat_minor": 5
}
